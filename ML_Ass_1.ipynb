{
  "nbformat": 4,
  "nbformat_minor": 0,
  "metadata": {
    "colab": {
      "provenance": []
    },
    "kernelspec": {
      "name": "python3",
      "display_name": "Python 3"
    },
    "language_info": {
      "name": "python"
    }
  },
  "cells": [
    {
      "cell_type": "markdown",
      "source": [
        "## **Machine Learning Intro | Assignment **\n",
        "\n",
        " Question 1: Explain the differences between AI, ML, Deep Learning (DL), and Data Science (DS).\n",
        "\n",
        " **Answer:**  \n",
        "\n",
        " - Artificial Intelligence (AI):\n",
        "\n",
        "   -  AI is a broad field that focuses on building systems capable of performing tasks that normally require human intelligence.\n",
        "\n",
        "   - Examples: Chatbots, recommendation systems, self-driving cars.\n",
        "\n",
        "- Machine Learning (ML):\n",
        "\n",
        "   - ML is a subset of AI where machines learn patterns from data and improve automatically without being explicitly programmed.\n",
        "\n",
        "  - Example: Spam email filtering.\n",
        "\n",
        "- Deep Learning (DL):\n",
        "\n",
        "   - DL is a subset of ML that uses artificial neural networks with multiple layers to learn complex patterns. It is especially useful for image, speech, and natural language tasks.\n",
        "\n",
        "   - Example: Facial recognition in smartphones.\n",
        "\n",
        " - Data Science (DS):\n",
        "\n",
        "   - DS is a multidisciplinary field that uses data, statistics, ML, and domain knowledge to extract insights and help in decision-making.\n",
        "\n",
        "   - Example: Analyzing customer purchase history to predict future buying trends.\n",
        "\n",
        "Question 2: What are the types of machine learning? Describe each with one real-world example.\n",
        "\n",
        "**Answer :** There are 3 main types of Machine Learning:\n",
        "\n",
        "1.  Supervised Learning\n",
        "\n",
        "- The model is trained on labeled data (input + correct output).\n",
        "\n",
        "- It learns the mapping between input and output.\n",
        "\n",
        "- Example: Predicting house prices based on features like size, location, and number of rooms.\n",
        "\n",
        "2. Unsupervised Learning\n",
        "\n",
        "- The model works on unlabeled data (only input, no correct output).\n",
        "\n",
        "- It groups or finds hidden patterns in data.\n",
        "\n",
        "- Example: Customer segmentation in marketing (grouping customers by buying behavior).\n",
        "\n",
        "3. Reinforcement Learning (RL)\n",
        "\n",
        "- The model learns by interacting with an environment and receiving rewards/penalties based on its actions.\n",
        "\n",
        "- Goal: maximize long-term reward.\n",
        "\n",
        "- Example: Training robots to walk or teaching AI to play games like Chess or Atari.  \n",
        "\n",
        "Question 3: What is Learning in Machine Learning?\n",
        "\n",
        "**Answer:**\n",
        "\n",
        "- Learning in ML refers to the process by which an algorithm improves its performance on a task as it gains more experience (data).\n",
        "\n",
        "- It means finding patterns/relationships in data and using them to make predictions or decisions without being explicitly programmed.\n",
        "\n",
        "Types of Learning:\n",
        "\n",
        "   - Supervised Learning → learns from labeled data.\n",
        "\n",
        "   - Unsupervised Learning → learns from unlabeled data.\n",
        "\n",
        "   - Reinforcement Learning → learns from rewards and penalties.\n",
        "\n",
        "Question 4: What are outliers in a dataset, and list three common techniques for handling them.\n",
        "\n",
        "**Answer:**\n",
        "\n",
        "- Outliers: Data points that significantly differ from other observations in a dataset. They may occur due to variability in data, measurement errors, or noise.\n",
        "\n",
        "- Why Important? Outliers can distort statistical analysis and reduce model accuracy.\n",
        "\n",
        "Common Techniques to Handle Outliers:\n",
        "\n",
        "- Removal: Delete the outlier values if they are due to errors.\n",
        "\n",
        "- Transformation: Apply log, square root, or normalization to reduce the effect of outliers.\n",
        "\n",
        "- Capping/Clipping (Winsorization): Replace extreme values with a specified percentile (e.g., 5th and 95th percentile)\n",
        "\n",
        "Question 5: Explain the process of handling missing values and mention one imputation technique for numerical and one for categorical data.\n",
        "\n",
        "**Answer:**\n",
        "\n",
        "- Handling Missing Values Process:\n",
        "\n",
        "   * Identify missing values in the dataset.\n",
        "\n",
        "  - Analyze the pattern (random or systematic).\n",
        "\n",
        "   - Choose a strategy: remove rows/columns with missing values or fill them using imputation.\n",
        "\n",
        "Imputation Techniques:\n",
        "\n",
        "  - Numerical Data: Replace missing values with mean/median (e.g., filling missing ages with the median age).\n",
        "\n",
        " - Categorical Data: Replace missing values with the mode (most frequent category).\n",
        "\n",
        " Question 6: Imbalanced dataset creation & class distribution\n",
        "\n",
        "**Answer:**"
      ],
      "metadata": {
        "id": "TQHdDY2YpuD4"
      }
    },
    {
      "cell_type": "code",
      "source": [
        "from sklearn.datasets import make_classification\n",
        "import numpy as np\n",
        "import pandas as pd\n",
        "\n",
        "# Create synthetic imbalanced dataset\n",
        "X, y = make_classification(n_samples=1000, n_features=2,\n",
        "                           n_informative=2, n_redundant=0,\n",
        "                           n_clusters_per_class=1,\n",
        "                           weights=[0.9, 0.1],\n",
        "                           random_state=42)\n",
        "\n",
        "# Print class distribution\n",
        "unique, counts = np.unique(y, return_counts=True)\n",
        "class_dist = dict(zip(unique, counts))\n",
        "print(\"Class Distribution:\", class_dist)\n"
      ],
      "metadata": {
        "colab": {
          "base_uri": "https://localhost:8080/"
        },
        "id": "D46A9ZGbtIzs",
        "outputId": "3c019938-de5c-44db-efec-5ea835c7c3cc"
      },
      "execution_count": 1,
      "outputs": [
        {
          "output_type": "stream",
          "name": "stdout",
          "text": [
            "Class Distribution: {np.int64(0): np.int64(895), np.int64(1): np.int64(105)}\n"
          ]
        }
      ]
    },
    {
      "cell_type": "markdown",
      "source": [
        "Question 7: One-hot encoding with pandas"
      ],
      "metadata": {
        "id": "0A5PJkJitg6T"
      }
    },
    {
      "cell_type": "code",
      "source": [
        "import pandas as pd\n",
        "\n",
        "# List of colors\n",
        "colors = ['Red', 'Green', 'Blue', 'Green', 'Red']\n",
        "\n",
        "# Convert into dataframe\n",
        "df = pd.DataFrame(colors, columns=['Color'])\n",
        "\n",
        "# Apply one-hot encoding\n",
        "one_hot = pd.get_dummies(df['Color'])\n",
        "\n",
        "# Combine with original DataFrame\n",
        "result = pd.concat([df, one_hot], axis=1)\n",
        "print(result)\n"
      ],
      "metadata": {
        "colab": {
          "base_uri": "https://localhost:8080/"
        },
        "id": "PDVm9TfatiUc",
        "outputId": "49ebc29f-ebf3-4810-b3ec-8c5efffebbe7"
      },
      "execution_count": 2,
      "outputs": [
        {
          "output_type": "stream",
          "name": "stdout",
          "text": [
            "   Color   Blue  Green    Red\n",
            "0    Red  False  False   True\n",
            "1  Green  False   True  False\n",
            "2   Blue   True  False  False\n",
            "3  Green  False   True  False\n",
            "4    Red  False  False   True\n"
          ]
        }
      ]
    },
    {
      "cell_type": "markdown",
      "source": [
        "Question 8: Normal distribution + missing values + imputation + histogram"
      ],
      "metadata": {
        "id": "pClolllVto09"
      }
    },
    {
      "cell_type": "code",
      "source": [
        "import numpy as np\n",
        "import pandas as pd\n",
        "import matplotlib.pyplot as plt\n",
        "\n",
        "# Step 1: Generate 1000 samples from normal distribution\n",
        "data = np.random.normal(loc=50, scale=10, size=1000)\n",
        "\n",
        "# Convert to DataFrame\n",
        "df = pd.DataFrame(data, columns=['Value'])\n",
        "\n",
        "# Step 2: Introduce 50 random missing values\n",
        "missing_indices = np.random.choice(df.index, size=50, replace=False)\n",
        "df.loc[missing_indices, 'Value'] = np.nan\n",
        "\n",
        "# Step 3: Plot histogram before imputation\n",
        "plt.hist(df['Value'], bins=30, edgecolor='black')\n",
        "plt.title(\"Histogram Before Imputation\")\n",
        "plt.show()\n",
        "\n",
        "# Step 4: Fill missing values with column mean\n",
        "mean_value = df['Value'].mean()\n",
        "df['Value'].fillna(mean_value, inplace=True)\n",
        "\n",
        "# Step 5: Plot histogram after imputation\n",
        "plt.hist(df['Value'], bins=30, edgecolor='black')\n",
        "plt.title(\"Histogram After Imputation\")\n",
        "plt.show()\n"
      ],
      "metadata": {
        "colab": {
          "base_uri": "https://localhost:8080/",
          "height": 1000
        },
        "id": "OGBNnBpvtpxG",
        "outputId": "ad329f2a-874f-446a-95ef-d754699e0c77"
      },
      "execution_count": 3,
      "outputs": [
        {
          "output_type": "display_data",
          "data": {
            "text/plain": [
              "<Figure size 640x480 with 1 Axes>"
            ],
            "image/png": "[encoded data removed]"
          },
          "metadata": {}
        },
        {
          "output_type": "stream",
          "name": "stderr",
          "text": [
            "/tmp/ipython-input-442753659.py:22: FutureWarning: A value is trying to be set on a copy of a DataFrame or Series through chained assignment using an inplace method.\n",
            "The behavior will change in pandas 3.0. This inplace method will never work because the intermediate object on which we are setting values always behaves as a copy.\n",
            "\n",
            "For example, when doing 'df[col].method(value, inplace=True)', try using 'df.method({col: value}, inplace=True)' or df[col] = df[col].method(value) instead, to perform the operation inplace on the original object.\n",
            "\n",
            "\n",
            "  df['Value'].fillna(mean_value, inplace=True)\n"
          ]
        },
        {
          "output_type": "display_data",
          "data": {
            "text/plain": [
              "<Figure size 640x480 with 1 Axes>"
            ],
            "image/png": "[encoded data removed]"
          },
          "metadata": {}
        }
      ]
    },
    {
      "cell_type": "markdown",
      "source": [
        "Question 9: Implement Min-Max scaling on the following list of numbers [2, 5, 10, 15,\n",
        "20] using sklearn.preprocessing.MinMaxScaler. Print the scaled array."
      ],
      "metadata": {
        "id": "OUgon7ZquGO2"
      }
    },
    {
      "cell_type": "code",
      "source": [
        "from sklearn.preprocessing import MinMaxScaler\n",
        "import numpy as np\n",
        "\n",
        "# Original data\n",
        "data = np.array([[2], [5], [10], [15], [20]])\n",
        "\n",
        "# Initialize scaler\n",
        "scaler = MinMaxScaler()\n",
        "\n",
        "# Fit and transform\n",
        "scaled_data = scaler.fit_transform(data)\n",
        "\n",
        "print(\"Original Data:\\n\", data.flatten())\n",
        "print(\"Scaled Data:\\n\", scaled_data.flatten())\n"
      ],
      "metadata": {
        "colab": {
          "base_uri": "https://localhost:8080/"
        },
        "id": "_JsHSNj3uHoj",
        "outputId": "d3dc9fcc-bf7f-48c9-a97e-7b204e6bad47"
      },
      "execution_count": 4,
      "outputs": [
        {
          "output_type": "stream",
          "name": "stdout",
          "text": [
            "Original Data:\n",
            " [ 2  5 10 15 20]\n",
            "Scaled Data:\n",
            " [0.         0.16666667 0.44444444 0.72222222 1.        ]\n"
          ]
        }
      ]
    },
    {
      "cell_type": "markdown",
      "source": [
        "Question 10: Data Preparation Plan for Retail Dataset\n",
        "\n",
        "**Answer:** Here’s the step-by-step plan before training the ML model:\n",
        "\n",
        "1.  Handle Missing Ages:\n",
        "\n",
        "- Use median imputation for numerical values like age.\n",
        "\n",
        "2.  Handle Outliers in Transaction Amount:\n",
        "\n",
        "- Detect using IQR method or z-scores.\n",
        "\n",
        "- Treat by capping values to upper/lower bounds.\n",
        "\n",
        "3. Handle Imbalance in Target (Fraud vs. Non-Fraud):\n",
        "\n",
        " -  Use resampling techniques:\n",
        "\n",
        "    - Oversample minority class (e.g., SMOTE)\n",
        "\n",
        "     - Undersample majority class\n",
        "\n",
        "- Or use class weights in the model.\n",
        "\n",
        "4. Handle Categorical Variables (Payment Method):\n",
        "\n",
        "- Apply One-Hot Encoding (if few categories).\n",
        "\n",
        "- Or Target/Ordinal Encoding (if many categories).\n",
        "\n",
        "5. Scaling:\n",
        "\n",
        "Apply MinMaxScaler or StandardScaler on numerical features."
      ],
      "metadata": {
        "id": "tOm1KUZAuNUj"
      }
    },
    {
      "cell_type": "code",
      "source": [
        "import pandas as pd\n",
        "import numpy as np\n",
        "from sklearn.impute import SimpleImputer\n",
        "from sklearn.preprocessing import OneHotEncoder, StandardScaler\n",
        "from imblearn.over_sampling import RandomOverSampler\n",
        "\n",
        "# ---------------------------\n",
        "# 1. Sample Dataset\n",
        "# ---------------------------\n",
        "data = {\n",
        "    'Age': [25, np.nan, 40, 35, np.nan, 50],\n",
        "    'TransactionAmount': [50, 2000, 60, 55, 5000, 45],\n",
        "    'PaymentMethod': ['Card', 'Cash', 'UPI', 'Card', 'UPI', 'Cash'],\n",
        "    'Fraud': [0, 0, 0, 0, 1, 0]\n",
        "}\n",
        "\n",
        "df = pd.DataFrame(data)\n",
        "print(\"Original Data:\\n\", df, \"\\n\")\n",
        "\n",
        "# ---------------------------\n",
        "# 2. Handle Missing Values (Median for Age)\n",
        "# ---------------------------\n",
        "imputer = SimpleImputer(strategy='median')\n",
        "df['Age'] = imputer.fit_transform(df[['Age']])\n",
        "\n",
        "# ---------------------------\n",
        "# 3. Handle Outliers (IQR Method for TransactionAmount)\n",
        "# ---------------------------\n",
        "Q1, Q3 = df['TransactionAmount'].quantile([0.25, 0.75])\n",
        "IQR = Q3 - Q1\n",
        "lower_bound = Q1 - 1.5 * IQR\n",
        "upper_bound = Q3 + 1.5 * IQR\n",
        "\n",
        "df['TransactionAmount'] = np.where(df['TransactionAmount'] > upper_bound, upper_bound,\n",
        "                                   np.where(df['TransactionAmount'] < lower_bound, lower_bound, df['TransactionAmount']))\n",
        "\n",
        "# ---------------------------\n",
        "# 4. Encode Categorical Variables (One-Hot Encoding)\n",
        "# ---------------------------\n",
        "encoder = OneHotEncoder(drop='first', sparse_output=False)\n",
        "encoded = encoder.fit_transform(df[['PaymentMethod']])\n",
        "encoded_df = pd.DataFrame(encoded, columns=encoder.get_feature_names_out(['PaymentMethod']))\n",
        "\n",
        "df = pd.concat([df.drop('PaymentMethod', axis=1), encoded_df], axis=1)\n",
        "\n",
        "# ---------------------------\n",
        "# 5. Scale Numerical Features (StandardScaler)\n",
        "# ---------------------------\n",
        "scaler = StandardScaler()\n",
        "df[['Age', 'TransactionAmount']] = scaler.fit_transform(df[['Age', 'TransactionAmount']])\n",
        "\n",
        "# ---------------------------\n",
        "# 6. Handle Class Imbalance (RandomOverSampler)\n",
        "# ---------------------------\n",
        "X = df.drop('Fraud', axis=1)\n",
        "y = df['Fraud']\n",
        "\n",
        "ros = RandomOverSampler(random_state=42)\n",
        "X_res, y_res = ros.fit_resample(X, y)\n",
        "\n",
        "# ---------------------------\n",
        "# 7. Final Balanced Dataset\n",
        "# ---------------------------\n",
        "final_df = pd.concat([X_res, y_res], axis=1)\n",
        "print(\"After Data Preparation:\\n\", final_df, \"\\n\")\n",
        "print(\"Class Distribution After Oversampling:\", y_res.value_counts().to_dict())\n"
      ],
      "metadata": {
        "colab": {
          "base_uri": "https://localhost:8080/"
        },
        "id": "4sz52ghowvTH",
        "outputId": "4e8a2416-aa43-4d42-ef94-941c46f60ed4"
      },
      "execution_count": 8,
      "outputs": [
        {
          "output_type": "stream",
          "name": "stdout",
          "text": [
            "Original Data:\n",
            "     Age  TransactionAmount PaymentMethod  Fraud\n",
            "0  25.0                 50          Card      0\n",
            "1   NaN               2000          Cash      0\n",
            "2  40.0                 60           UPI      0\n",
            "3  35.0                 55          Card      0\n",
            "4   NaN               5000           UPI      1\n",
            "5  50.0                 45          Cash      0 \n",
            "\n",
            "After Data Preparation:\n",
            "         Age  TransactionAmount  PaymentMethod_Cash  PaymentMethod_UPI  Fraud\n",
            "0 -1.698416          -0.664126                 0.0                0.0      0\n",
            "1  0.000000           0.718332                 1.0                0.0      0\n",
            "2  0.339683          -0.657037                 0.0                1.0      0\n",
            "3 -0.339683          -0.660582                 0.0                0.0      0\n",
            "4  0.000000           1.931084                 0.0                1.0      1\n",
            "5  1.698416          -0.667671                 1.0                0.0      0\n",
            "6  0.000000           1.931084                 0.0                1.0      1\n",
            "7  0.000000           1.931084                 0.0                1.0      1\n",
            "8  0.000000           1.931084                 0.0                1.0      1\n",
            "9  0.000000           1.931084                 0.0                1.0      1 \n",
            "\n",
            "Class Distribution After Oversampling: {0: 5, 1: 5}\n"
          ]
        }
      ]
    }
  ]
}